{
  "nbformat": 4,
  "nbformat_minor": 0,
  "metadata": {
    "colab": {
      "name": "Gector",
      "provenance": [],
      "collapsed_sections": []
    },
    "kernelspec": {
      "name": "python3",
      "display_name": "Python 3"
    },
    "language_info": {
      "name": "python"
    },
    "accelerator": "GPU"
  },
  "cells": [
    {
      "cell_type": "markdown",
      "metadata": {
        "id": "EKVeUDU_ajuk"
      },
      "source": [
        "# 0. Installation\n",
        "\n",
        "This notebook is for grammar and spelling correction. It's based on [GECToR – Grammatical Error Correction: Tag, Not Rewrite](https://github.com/grammarly/gector). There's also a [published ACL 2020 paper](https://www.aclweb.org/anthology/2020.bea-1.16.pdf) describing it."
      ]
    },
    {
      "cell_type": "code",
      "metadata": {
        "id": "dXRqN1uEZ5d6"
      },
      "source": [
        "# Install code\n",
        "!wget https://github.com/grammarly/gector/archive/refs/heads/master.zip\n",
        "!unzip master.zip\n",
        "!mv gector-master/* .\n",
        "!rm -rf gector-master"
      ],
      "execution_count": null,
      "outputs": []
    },
    {
      "cell_type": "code",
      "metadata": {
        "id": "rt_Q919jaEze"
      },
      "source": [
        "!pip install -r requirements.txt"
      ],
      "execution_count": null,
      "outputs": []
    },
    {
      "cell_type": "code",
      "metadata": {
        "id": "0i1JvSfOdgCM"
      },
      "source": [
        "# Install LOCNESS dataset, described at https://www.cl.cam.ac.uk/research/nl/bea2019st/#data\n",
        "!wget https://www.cl.cam.ac.uk/research/nl/bea2019st/data/wi+locness_v2.1.bea19.tar.gz\n",
        "!tar -zxf wi+locness_v2.1.bea19.tar.gz"
      ],
      "execution_count": null,
      "outputs": []
    },
    {
      "cell_type": "markdown",
      "metadata": {
        "id": "lOGwecCxokmM"
      },
      "source": [
        "# 1. Train Model\n",
        "\n",
        "TBD"
      ]
    },
    {
      "cell_type": "markdown",
      "metadata": {
        "id": "znqIrO0EofgC"
      },
      "source": [
        "# 2. Predict"
      ]
    },
    {
      "cell_type": "code",
      "metadata": {
        "id": "5rtxt6tvo8K5"
      },
      "source": [
        "ModelType = 'roberta'"
      ],
      "execution_count": null,
      "outputs": []
    },
    {
      "cell_type": "code",
      "metadata": {
        "id": "yQp1VHhtoxrh"
      },
      "source": [
        "if ModelType == 'roberta':\n",
        "    Model = 'roberta_1_gector.th'\n",
        "    TokensFix = 1\n",
        "else:\n",
        "    Model = 'bert_0_gector.th'\n",
        "    TokensFix = 0"
      ],
      "execution_count": null,
      "outputs": []
    },
    {
      "cell_type": "code",
      "metadata": {
        "id": "hA7hk_njaVyW"
      },
      "source": [
        "# Install model (if custom training is not done)\n",
        "!wget -O $Model https://grammarly-nlp-data-public.s3.amazonaws.com/gector/$Model"
      ],
      "execution_count": null,
      "outputs": []
    },
    {
      "cell_type": "code",
      "metadata": {
        "id": "bw8dWvHCe6N3"
      },
      "source": [
        "!(python predict.py --model_path ./$Model \\\n",
        "    --vocab_path ./data/output_vocabulary/ \\\n",
        "    --input_file wi+locness/test/ABCN.test.bea19.orig \\\n",
        "    --output_file ABCN.test.bea19.corr \\\n",
        "    --transformer_model $ModelType \\\n",
        "    --special_tokens_fix $TokensFix)"
      ],
      "execution_count": null,
      "outputs": []
    }
  ]
}